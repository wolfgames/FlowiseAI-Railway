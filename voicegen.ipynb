{
  "cells": [
    {
      "cell_type": "markdown",
      "metadata": {
        "id": "view-in-github",
        "colab_type": "text"
      },
      "source": [
        "<a href=\"https://colab.research.google.com/github/wolfgames/FlowiseAI-Railway/blob/main/voicegen.ipynb\" target=\"_parent\"><img src=\"https://colab.research.google.com/assets/colab-badge.svg\" alt=\"Open In Colab\"/></a>"
      ]
    },
    {
      "cell_type": "markdown",
      "metadata": {
        "id": "fkNFIaOL5A_0"
      },
      "source": [
        "Enter credentials to access a Casescope/Casemaker Apis."
      ]
    },
    {
      "cell_type": "code",
      "execution_count": null,
      "metadata": {
        "id": "zoVzMw9JxGzx"
      },
      "outputs": [],
      "source": [
        "from getpass import getpass\n",
        "\n",
        "email = input(\"Email: \")\n",
        "password = getpass(\"Password: \")"
      ]
    },
    {
      "cell_type": "markdown",
      "metadata": {
        "id": "pSRX8fkk5wya"
      },
      "source": [
        "Authenticating and getting auth token"
      ]
    },
    {
      "cell_type": "code",
      "execution_count": null,
      "metadata": {
        "id": "-QwpCjPu51JM"
      },
      "outputs": [],
      "source": [
        "import requests\n",
        "import pprint\n",
        "from IPython.display import Markdown as md\n",
        "\n",
        "\n",
        "response = requests.post(\"https://auth.casescope.com/auth/signin\", {\"email\": email, \"password\": password})\n",
        "\n",
        "print(response.status_code)\n",
        "auth_data = response.json()\n",
        "access_token = auth_data['accessToken']\n",
        "pp = pprint.PrettyPrinter(indent=1)\n",
        "#pp.pprint(auth_data)\n",
        "print(f\"Auth Token: {access_token}\")\n"
      ]
    },
    {
      "cell_type": "markdown",
      "metadata": {
        "id": "7X6Pzu6T4DR2"
      },
      "source": [
        "Requesting prompt \"case_common_info\" generating a Case."
      ]
    },
    {
      "cell_type": "code",
      "execution_count": null,
      "metadata": {
        "id": "tOWZQ2dJ5Nop"
      },
      "outputs": [],
      "source": [
        "casescope_url = \"https://api.casescope.com\"\n",
        "headers = {\"Authorization\": f\"Bearer {access_token}\"}\n",
        "\n",
        "def get_prompt(prompt_id: int):\n",
        "  response = requests.get(f\"{casescope_url}/ai_prompt/{prompt_id}\", headers=headers)\n",
        "  data = response.json()\n",
        "  prompt = data[\"prompt\"]\n",
        "  print(f\"Prompt: {prompt}\")\n",
        "  return prompt\n",
        "\n"
      ]
    },
    {
      "cell_type": "markdown",
      "metadata": {
        "id": "pOATpEE9-JLE"
      },
      "source": [
        "Generate case common info"
      ]
    },
    {
      "cell_type": "code",
      "execution_count": null,
      "metadata": {
        "id": "PODsRwLf-LYl"
      },
      "outputs": [],
      "source": [
        "def generate_text(prompt: str, parameters={}):\n",
        "  data = {\"parameters\": parameters, \"prompt\": prompt}\n",
        "  print(f\"Json: {data}\")\n",
        "  response = requests.post(f\"{casescope_url}/openai/generate\", json=data, headers=headers)\n",
        "  data = response.json()\n",
        "  return data\n",
        "\n",
        "prompt = get_prompt(2)\n",
        "case_common_info = generate_text(prompt)\n",
        "# CaseMaker data format required for persisting data\n",
        "print(case_common_info)"
      ]
    },
    {
      "cell_type": "markdown",
      "metadata": {
        "id": "yiTtRClzCL7I"
      },
      "source": [
        "Generate case synopsis"
      ]
    },
    {
      "cell_type": "code",
      "execution_count": null,
      "metadata": {
        "id": "Qnst9v-gBx12"
      },
      "outputs": [],
      "source": [
        "prompt = get_prompt(3)\n",
        "case_synopsis = generate_text(prompt, {\"case_name\": case_common_info[\"caseName\"], \"crime_type\": case_common_info[\"crimeType\"], \"crime_location\": case_common_info[\"caseLocation\"], \"suspects_number\": case_common_info[\"numberSuspects\"]})\n",
        "# CaseMaker data format required for persisting data\n",
        "print(case_synopsis)"
      ]
    },
    {
      "cell_type": "markdown",
      "metadata": {
        "id": "vHl5s4b3ICIr"
      },
      "source": [
        "Generate case introduction"
      ]
    },
    {
      "cell_type": "code",
      "execution_count": null,
      "metadata": {
        "id": "NGfJD7oGIISI"
      },
      "outputs": [],
      "source": [
        "prompt = get_prompt(4)\n",
        "case_intro = generate_text(prompt, {\"case_name\": case_common_info[\"caseName\"], \"crime_type\": case_common_info[\"crimeType\"], \"crime_location\": case_common_info[\"caseLocation\"], \"suspects_number\": case_common_info[\"numberSuspects\"], \"synopsis\": case_synopsis})\n",
        "# CaseMaker data format required for persisting data\n",
        "print(case_intro)"
      ]
    },
    {
      "cell_type": "markdown",
      "source": [
        "Generate Writer's Markdown Synopsis"
      ],
      "metadata": {
        "id": "T5S-dGrICo7B"
      }
    },
    {
      "cell_type": "code",
      "execution_count": null,
      "metadata": {
        "id": "ktZWCgECD2c7"
      },
      "outputs": [],
      "source": [
        "prompt = get_prompt(25)\n",
        "case_synopsis_md = generate_text(prompt, {\"synopsis\": case_synopsis})\n",
        "# CaseMaker data format required for persisting data\n",
        "md(case_synopsis_md)"
      ]
    },
    {
      "cell_type": "markdown",
      "source": [
        "Case narrative"
      ],
      "metadata": {
        "id": "T2umK8iOggD6"
      }
    },
    {
      "cell_type": "code",
      "execution_count": null,
      "metadata": {
        "id": "n839abgKyObW"
      },
      "outputs": [],
      "source": [
        "prompt = get_prompt(28)\n",
        "case_narrative = generate_text(prompt, { \"case_synopsis_md\": case_synopsis_md, })\n",
        "# CaseMaker data format required for persisting data\n",
        "pp.pprint(case_narrative)"
      ]
    },
    {
      "cell_type": "markdown",
      "metadata": {
        "id": "mxTM9KSEsofz"
      },
      "source": [
        "Generate list of characters in the case"
      ]
    },
    {
      "cell_type": "code",
      "execution_count": null,
      "metadata": {
        "id": "1jVX-Zsksrny"
      },
      "outputs": [],
      "source": [
        "character_case_relation = '\"Culprit\" || \"Witness\" || \"Suspect\" || \"Victim\" || \"Incidental\"'\n",
        "prompt = get_prompt(29)\n",
        "case_characters = generate_text(prompt, { \"case_synopsis_md\": case_synopsis_md, \"role_options\": character_case_relation,  \"case_narrative\": case_narrative})\n",
        "\n",
        "# CaseMaker data format required for persisting data\n",
        "pp.pprint(case_characters)"
      ]
    },
    {
      "cell_type": "markdown",
      "source": [
        "# NEEDS UPDATING"
      ],
      "metadata": {
        "id": "VTVn8tSbSEB1"
      }
    },
    {
      "cell_type": "code",
      "source": [
        "# Mapping characters data\n",
        "# mapped_characters = list(map(lambda c: {\"age\": c[\"character\"][\"age\"], \"firstName\": c[\"character\"][\"firstName\"], \"lastName\": c[\"character\"][\"lastName\"], \"sex\": c[\"character\"][\"sex\"], \"characterOccupation\": c[\"character\"][\"occupation\"], \"description\": c[\"character\"][\"description\"], \"caseRelation\": c[\"characterCaseRelation\"]}, case_characters))\n",
        "# pp.pprint(mapped_characters)"
      ],
      "metadata": {
        "id": "XkGEVqbbgi1_"
      },
      "execution_count": null,
      "outputs": []
    },
    {
      "cell_type": "markdown",
      "metadata": {
        "id": "xJWrW6nNz1yJ"
      },
      "source": [
        "Generate case events"
      ]
    },
    {
      "cell_type": "code",
      "execution_count": null,
      "metadata": {
        "id": "ZmCRyj8oz3dI"
      },
      "outputs": [],
      "source": [
        "prompt = get_prompt(22)\n",
        "case_events = generate_text(prompt, {\n",
        "    \"synopsis\": case_synopsis_md,\n",
        "    \"charactersData\": case_characters,\n",
        "    \"narrative\": case_narrative\n",
        "    })\n",
        "# CaseMaker data format required for persisting data\n",
        "pp.pprint(case_events)"
      ]
    },
    {
      "cell_type": "markdown",
      "source": [
        "add causal events integration here"
      ],
      "metadata": {
        "id": "hgVRPbr2EkRU"
      }
    },
    {
      "cell_type": "markdown",
      "source": [
        "# Causal Graph Addition"
      ],
      "metadata": {
        "id": "sh-RksW-E0XG"
      }
    },
    {
      "cell_type": "markdown",
      "source": [
        "Generate event relations"
      ],
      "metadata": {
        "id": "frFzFm1fmMKn"
      }
    },
    {
      "cell_type": "code",
      "source": [
        "prompt = get_prompt(23)\n",
        "events_relations = generate_text(prompt, {\n",
        "    \"narrative\": case_narrative,\n",
        "    \"events\": case_events\n",
        "    })\n",
        "# CaseMaker data format required for persisting data\n",
        "pp.pprint(events_relations)"
      ],
      "metadata": {
        "id": "uzobGg62mQ1t"
      },
      "execution_count": null,
      "outputs": []
    },
    {
      "cell_type": "markdown",
      "source": [
        "Generate Concept Tree"
      ],
      "metadata": {
        "id": "O_26GDxQKaL-"
      }
    },
    {
      "cell_type": "code",
      "execution_count": null,
      "metadata": {
        "id": "T6npahHXKduC"
      },
      "outputs": [],
      "source": [
        "prompt = get_prompt(30)\n",
        "case_tree = generate_text(prompt, {\n",
        "    \"case_synopsis_md\": case_synopsis_md,\n",
        "    \"case_characters\": case_characters\n",
        "    })\n",
        "# CaseMaker data format required for persisting data\n",
        "md(case_tree)"
      ]
    },
    {
      "cell_type": "code",
      "execution_count": null,
      "metadata": {
        "id": "rx178TrSM-dR"
      },
      "outputs": [],
      "source": [
        "prompt = get_prompt(32)\n",
        "case_solution = generate_text(prompt, {\n",
        "    \"case_synopsis_md\": case_synopsis_md,\n",
        "    \"case_characters\": case_characters,\n",
        "    \"case_tree\": case_tree\n",
        "    })\n",
        "# CaseMaker data format required for persisting data\n",
        "md(case_solution)"
      ]
    },
    {
      "cell_type": "code",
      "execution_count": null,
      "metadata": {
        "id": "BoXmUX7AOXGB"
      },
      "outputs": [],
      "source": [
        "prompt = get_prompt(33)\n",
        "evidence_tier3 = generate_text(prompt, {\n",
        "    \"case_synopsis_md\": case_synopsis_md,\n",
        "    \"case_characters\": case_characters,\n",
        "    \"case_tree\": case_tree,\n",
        "    \"case_events\": case_events,\n",
        "    \"case_solution\": case_solution\n",
        "    })\n",
        "# CaseMaker data format required for persisting data\n",
        "pp.pprint(evidence_tier3)"
      ]
    },
    {
      "cell_type": "code",
      "execution_count": null,
      "metadata": {
        "id": "rG3e3HvhPINg"
      },
      "outputs": [],
      "source": [
        "prompt = get_prompt(35)\n",
        "evidence_tier2 = generate_text(prompt, {\n",
        "    \"case_synopsis_md\": case_synopsis_md,\n",
        "    \"case_characters\": case_characters,\n",
        "    \"case_tree\": case_tree,\n",
        "    \"case_events\": case_events,\n",
        "    \"case_solution\": case_solution,\n",
        "    \"evidence_tier3\": evidence_tier3\n",
        "    })\n",
        "# CaseMaker data format required for persisting data\n",
        "pp.pprint(evidence_tier2)"
      ]
    },
    {
      "cell_type": "code",
      "execution_count": null,
      "metadata": {
        "id": "LucWulnyQgvB"
      },
      "outputs": [],
      "source": [
        "prompt = get_prompt(36)\n",
        "evidence_tier1 = generate_text(prompt, {\n",
        "    \"case_synopsis_md\": case_synopsis_md,\n",
        "    \"case_characters\": case_characters,\n",
        "    \"case_tree\": case_tree,\n",
        "    \"case_events\": case_events,\n",
        "    \"case_solution\": case_solution,\n",
        "    \"evidence_tier3\": evidence_tier3,\n",
        "    \"evidence_tier2\": evidence_tier2\n",
        "    })\n",
        "# CaseMaker data format required for persisting data\n",
        "pp.pprint(evidence_tier1)"
      ]
    },
    {
      "cell_type": "code",
      "execution_count": null,
      "metadata": {
        "id": "sh8mOuncQpU4"
      },
      "outputs": [],
      "source": [
        "prompt = get_prompt(38)\n",
        "evidence_tier0 = generate_text(prompt, {\n",
        "    \"case_synopsis_md\": case_synopsis_md,\n",
        "    \"case_characters\": case_characters,\n",
        "    \"case_tree\": case_tree,\n",
        "    \"case_events\": case_events,\n",
        "    \"case_solution\": case_solution,\n",
        "    \"evidence_tier3\": evidence_tier3,\n",
        "    \"evidence_tier2\": evidence_tier2,\n",
        "    \"evidence_tier1\": evidence_tier1,\n",
        "    })\n",
        "# CaseMaker data format required for persisting data\n",
        "pp.pprint(evidence_tier0)"
      ]
    },
    {
      "cell_type": "code",
      "execution_count": null,
      "metadata": {
        "id": "b3MrGRsyTmvq"
      },
      "outputs": [],
      "source": [
        "prompt = get_prompt(39)\n",
        "prosecutor_validator = generate_text(prompt, {\n",
        "    \"evidence_tier3\": evidence_tier3,\n",
        "    \"evidence_tier2\": evidence_tier2,\n",
        "    \"evidence_tier1\": evidence_tier1,\n",
        "    \"evidence_tier0\": evidence_tier0,\n",
        "    })\n",
        "# CaseMaker data format required for persisting data\n",
        "md(prosecutor_validator)"
      ]
    },
    {
      "cell_type": "markdown",
      "source": [
        "# NEEDS UPDATING\n",
        "Here is how output of evidences are being mapped for UI / Database needs."
      ],
      "metadata": {
        "id": "baMueLa0pkFG"
      }
    },
    {
      "cell_type": "code",
      "source": [
        "import uuid\n",
        "\n",
        "tiers = list(map(lambda t: next(iter(t.keys())), evidences[\"tiers\"]))\n",
        "tiers.append('Solutions')\n",
        "\n",
        "cards = []\n",
        "\n",
        "for tier in evidences[\"tiers\"]:\n",
        "  for key in tier.keys():\n",
        "    for card in tier[key]:\n",
        "      mapped_card = {\"card_type\": card[\"card_type\"], \"card_text\": card[\"card_text\"], \"tier\": key, \"uid\": str(uuid.uuid4().hex)}\n",
        "      cards.append(mapped_card)\n",
        "\n",
        "for solution in evidences[\"solutions\"]:\n",
        "  for key, value in solution.items():\n",
        "    mapped_card = {\"card_type\": key, \"card_text\": value, \"tier\": \"Solution\", \"uid\": str(uuid.uuid4().hex)}\n",
        "    cards.append(mapped_card)\n",
        "\n",
        "casemaker_evidence_list = list(\n",
        "    map(\n",
        "        lambda card: {\n",
        "            \"uid\": card[\"uid\"],\n",
        "            \"name\": card[\"card_type\"],\n",
        "            \"description\": '',\n",
        "            \"type\": 'TEXT',\n",
        "            \"tier\": card[\"tier\"],\n",
        "            \"data\": {\n",
        "                \"value\": card[\"card_text\"],\n",
        "                \"description\": ''\n",
        "            },\n",
        "            \"propertyGenerationStatus\": 'INITIAL',\n",
        "            \"propertiesType\": 'NONE',\n",
        "            \"relations\": [],\n",
        "            \"properties\": []\n",
        "        },\n",
        "        cards\n",
        "    )\n",
        ")\n",
        "\n",
        "casemaker_evidence_board = { # CaseMaker data format required for persisting data\n",
        "    \"characteristics\": casemaker_evidence_list,\n",
        "    \"tiers\": tiers\n",
        "}\n",
        "pp.pprint(casemaker_evidence_board)"
      ],
      "metadata": {
        "id": "YkMPXI4opqgl"
      },
      "execution_count": null,
      "outputs": []
    },
    {
      "cell_type": "code",
      "source": [],
      "metadata": {
        "id": "fjuS-N3hRt7S"
      },
      "execution_count": null,
      "outputs": []
    }
  ],
  "metadata": {
    "colab": {
      "provenance": [],
      "toc_visible": true,
      "name": "voicegen.ipynb",
      "include_colab_link": true
    },
    "kernelspec": {
      "display_name": "Python 3",
      "name": "python3"
    },
    "language_info": {
      "name": "python"
    }
  },
  "nbformat": 4,
  "nbformat_minor": 0
}