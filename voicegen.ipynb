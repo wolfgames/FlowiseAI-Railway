{
  "cells": [
    {
      "cell_type": "markdown",
      "metadata": {
        "id": "view-in-github",
        "colab_type": "text"
      },
      "source": [
        "<a href=\"https://colab.research.google.com/github/wolfgames/FlowiseAI-Railway/blob/main/voicegen.ipynb\" target=\"_parent\"><img src=\"https://colab.research.google.com/assets/colab-badge.svg\" alt=\"Open In Colab\"/></a>"
      ]
    },
    {
      "cell_type": "markdown",
      "source": [
        "API Documentation: https://voicegen-qa.casescope.com/docs\n",
        "\n",
        "GRadio Interface: https://voicegenix-qa.casescope.com/"
      ],
      "metadata": {
        "id": "yGsAFrr6R5pP"
      }
    },
    {
      "cell_type": "markdown",
      "metadata": {
        "id": "fkNFIaOL5A_0"
      },
      "source": [
        "Enter auth credentials:"
      ]
    },
    {
      "cell_type": "code",
      "execution_count": null,
      "metadata": {
        "id": "zoVzMw9JxGzx"
      },
      "outputs": [],
      "source": [
        "email = \"\"\n",
        "password = \"\"\n",
        "\n",
        "base_auth_url = \"https://auth-qa.casescope.com\"\n",
        "base_voicegen_url = \"https://voicegen-qa.casescope.com\""
      ]
    },
    {
      "cell_type": "markdown",
      "source": [
        "Request Authentication Token"
      ],
      "metadata": {
        "id": "KQIjovlJP7SP"
      }
    },
    {
      "cell_type": "code",
      "execution_count": null,
      "metadata": {
        "id": "-QwpCjPu51JM"
      },
      "outputs": [],
      "source": [
        "import requests\n",
        "import pprint\n",
        "from IPython.display import Markdown as md\n",
        "\n",
        "pp = pprint.PrettyPrinter(indent=1)\n",
        "\n",
        "response = requests.post(base_auth_url + \"/auth/signin\", {\"email\": email, \"password\": password})\n",
        "\n",
        "print(response.status_code)\n",
        "auth_data = response.json()\n",
        "# pp.pprint(auth_data)\n",
        "# print(f\"Auth Token: {access_token}\")\n",
        "\n",
        "access_token = auth_data['accessToken']"
      ]
    },
    {
      "cell_type": "markdown",
      "source": [
        "VoiceGen Request"
      ],
      "metadata": {
        "id": "ipNNJhYqUxRO"
      }
    },
    {
      "cell_type": "code",
      "source": [
        "\n",
        "headers = {\n",
        "   \"accept\": \"application/json\",\n",
        "   \"Authorization\": f\"Bearer {access_token}\"\n",
        "}\n",
        "params = {\n",
        "}\n",
        "url = base_voicegen_url + \"/api/voices/\"\n",
        "\n",
        "response = requests.get(url, headers=headers, params=params)"
      ],
      "metadata": {
        "id": "fjuS-N3hRt7S"
      },
      "execution_count": null,
      "outputs": []
    },
    {
      "cell_type": "code",
      "source": [
        "response.json()"
      ],
      "metadata": {
        "id": "xgek82OjTU_j"
      },
      "execution_count": null,
      "outputs": []
    },
    {
      "cell_type": "code",
      "source": [],
      "metadata": {
        "id": "EugqdxeSUFRd"
      },
      "execution_count": null,
      "outputs": []
    }
  ],
  "metadata": {
    "colab": {
      "provenance": [],
      "toc_visible": true,
      "name": "voicegen.ipynb",
      "include_colab_link": true
    },
    "kernelspec": {
      "display_name": "Python 3",
      "name": "python3"
    },
    "language_info": {
      "name": "python"
    }
  },
  "nbformat": 4,
  "nbformat_minor": 0
}